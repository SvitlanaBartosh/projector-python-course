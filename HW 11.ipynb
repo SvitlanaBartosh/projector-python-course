{
 "cells": [
  {
   "cell_type": "code",
   "execution_count": 19,
   "metadata": {},
   "outputs": [
    {
     "name": "stdout",
     "output_type": "stream",
     "text": [
      "http://gph.is/2gKX0WD\n",
      "https://gph.is/g/4wzQ0yn\n",
      "http://gph.is/2bDFBi6\n",
      "https://gph.is/g/Z7WW7Qq\n",
      "http://gph.is/19q1lli\n",
      "http://gph.is/1L0bTgt\n",
      "http://gph.is/1rvPSSb\n",
      "http://gph.is/1zeKTqH\n",
      "http://gph.is/29KhWN3\n",
      "http://gph.is/28TpBmX\n",
      "http://gph.is/2kesOHI\n",
      "http://gph.is/2bbyuhU\n",
      "http://gph.is/2bN98ob\n",
      "http://gph.is/2bKueFE\n",
      "https://gph.is/g/a9XW3po\n",
      "https://gph.is/g/ajKqMoq\n",
      "http://gph.is/1qFpS5x\n",
      "http://gph.is/2f2zisb\n",
      "http://gph.is/1qGRE1u\n",
      "http://gph.is/1I3QcZe\n",
      "http://gph.is/2aUQfmd\n",
      "https://gph.is/g/aN28DJa\n",
      "https://gph.is/g/4Le3mkp\n",
      "https://gph.is/g/aK8oMBX\n",
      "http://gph.is/HlayoP\n"
     ]
    }
   ],
   "source": [
    "import requests\n",
    "\n",
    "giphy_api = 'http://api.giphy.com/v1/gifs/search'\n",
    "auth_token = '0rTASmCxZCFYOLA123tF70koIn5dkxgO'\n",
    "api_key='0rTASmCxZCFYOLA123tF70koIn5dkxgO'\n",
    "# https://api.giphy.com/v1/gifs/search\n",
    "# ?api_key=0rTASmCxZCFYOLA123tF70koIn5dkxgO\n",
    "# &q=cocker\n",
    "# &limit=25\n",
    "# &offset=0\n",
    "# &rating=g\n",
    "# &lang=en\n",
    "# &bundle=messaging_non_clips\n",
    "search_word = input(\"enter search word\")\n",
    "\n",
    "url = f\"{giphy_api}?api_key={api_key}&q={search_word}&limit=25\" \n",
    "\n",
    "resp = requests.get(\n",
    "    url,\n",
    "    headers={\n",
    "        'content-type': 'application/json',\n",
    "        'Authorization': f\"Bearer {auth_token}\",\n",
    "        \"Accept\": \"application/json\",\n",
    "    }\n",
    ")\n",
    "\n",
    "resp.json()\n",
    "\n",
    "for obj in resp.json()['data']: \n",
    "    print(obj['bitly_url'])\n"
   ]
  }
 ],
 "metadata": {
  "interpreter": {
   "hash": "3067ead486e059ec00ffe7555bdb889e6e264a24dc711bf108106cc7baee8d5d"
  },
  "kernelspec": {
   "display_name": "Python 3.7.3 ('base')",
   "language": "python",
   "name": "python3"
  },
  "language_info": {
   "codemirror_mode": {
    "name": "ipython",
    "version": 3
   },
   "file_extension": ".py",
   "mimetype": "text/x-python",
   "name": "python",
   "nbconvert_exporter": "python",
   "pygments_lexer": "ipython3",
   "version": "3.9.6"
  },
  "orig_nbformat": 4
 },
 "nbformat": 4,
 "nbformat_minor": 2
}
