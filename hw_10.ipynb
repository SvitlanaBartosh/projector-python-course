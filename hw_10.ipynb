{
 "cells": [
  {
   "attachments": {},
   "cell_type": "markdown",
   "metadata": {},
   "source": [
    "№1\n",
    "Write a program that generates 26 text files named A.txt, B.txt, and so on up to Z.txt. To each file append a random number between 1 and 100. Create a summary file (summary.txt) that contains the name of the file and the number in that file: A.txt: 67 B.txt: 12...Z.txt: 98"
   ]
  },
  {
   "cell_type": "code",
   "execution_count": 12,
   "metadata": {},
   "outputs": [],
   "source": [
    "import string\n",
    "import random\n",
    "\n",
    "summary_content = []\n",
    "\n",
    "for letter in string.ascii_lowercase:\n",
    "    file_name = '{}.txt'.format(letter)\n",
    "    with open(file_name, 'w') as file:\n",
    "        random_num = random.randint(1,100)\n",
    "        file.write('{}'.format(random_num))\n",
    "        summary_content.append([file_name, random_num])\n",
    "\n",
    "with open('summary.txt','a') as summary_file:\n",
    "    for item in summary_content:\n",
    "        summary_file.write('{} {}\\n'.format(item[0], item[1]))    \n"
   ]
  },
  {
   "attachments": {},
   "cell_type": "markdown",
   "metadata": {},
   "source": [
    "#2\n",
    "Create a file with some content. As example, you can take this one:\n",
    "\n",
    "“Lorem ipsum dolor sit amet, consectetur adipiscing elit, sed do eiusmod tempor incididunt ut labore et dolore magna aliqua. Ut enim ad minim veniam, quis nostrud exercitation ullamco laboris nisi ut aliquip ex ea commodo consequat. Duis aute irure dolor in reprehenderit in voluptate velit esse cillum dolore eu fugiat nulla pariatur. Excepteur sint occaecat cupidatat non proident, sunt in culpa qui officia deserunt mollit anim id est laborum”."
   ]
  },
  {
   "cell_type": "code",
   "execution_count": 29,
   "metadata": {},
   "outputs": [],
   "source": [
    "with open('low_file.txt','w+') as low_file:\n",
    "    low_file.write('Lorem ipsum dolor sit amet, consectetur adipiscing elit, sed do eiusmod tempor incididunt ut labore et dolore magna aliqua.Ut enim ad minim veniam, quis nostrud exercitation ullamco laboris nisi ut aliquip ex ea commodo consequat. Duis aute irure dolor in reprehenderit in voluptate velit esse cillum dolore eu fugiat nulla pariatur. Excepteur sint occaecat cupidatat non proident, sunt in culpa qui officia deserunt mollit anim id est laborum')\n",
    "\n",
    "    for line in low_file:\n",
    "        new_line = line.upper()\n",
    "    \n",
    "    with open('upper_file.txt','w') as upper_file:\n",
    "        upper_file.write(line.upper())"
   ]
  },
  {
   "attachments": {},
   "cell_type": "markdown",
   "metadata": {},
   "source": [
    "#3\n",
    "Write a program that will simulate user scores in a game. Create a list with 5 players’ names after that simulate 100 rounds for each player. As a result of the game create a list with the player's name and score (0-1000 range). And save it to a CSV file. The file should look like this:\n",
    "\n",
    "Player name, Score\n",
    "Josh, 56\n",
    "Luke, 784\n",
    "Kate, 90\n",
    "Mark, 125\n",
    "Mary, 877\n",
    "Josh, 345"
   ]
  },
  {
   "cell_type": "code",
   "execution_count": 27,
   "metadata": {},
   "outputs": [],
   "source": [
    "import random\n",
    "\n",
    "players = ['Josh', 'Luke', 'Kate', 'Mark', 'Mary']\n",
    "\n",
    "with open('result.csv','w') as result:\n",
    "    result.write('Player name, Score\\n')\n",
    "    for i in range (1,101):\n",
    "        for name in players:\n",
    "            result.write('{},{}\\n'.format(name, random.randint(0,1000)))\n"
   ]
  },
  {
   "attachments": {},
   "cell_type": "markdown",
   "metadata": {},
   "source": [
    "#4\n",
    "Write a script that reads the data from the previous CSV file and creates a new file called high_scores.csv where each row contains the player name and their highest score. The final score should be sorted by descending to the highest score. The output CSV file should look like this:\n",
    "\n",
    "Player name, Highest score\n",
    "Kate, 907\n",
    "Mary, 897\n",
    "Luke, 784\n",
    "Mark, 725\n",
    "Josh, 345"
   ]
  },
  {
   "cell_type": "code",
   "execution_count": 40,
   "metadata": {},
   "outputs": [],
   "source": [
    "import csv\n",
    "\n",
    "result = {}\n",
    "\n",
    "with open(\"./result.csv\", 'r') as file:\n",
    "  csvreader = csv.reader(file)\n",
    "  next(csvreader)\n",
    "\n",
    "  for [name, score] in csvreader:\n",
    "    if name in result:\n",
    "      if int(result[name]) < int(score):\n",
    "        result[name] = int(score)\n",
    "    else:\n",
    "      result[name] = int(score)\n",
    "\n",
    "with open(\"./high_scores.csv\", 'w') as high_scores:\n",
    "  fieldnames = ['Player name', 'Highest score']\n",
    "  writer = csv.DictWriter(high_scores, fieldnames)\n",
    "  writer.writeheader()\n",
    "  \n",
    "  for key in result:\n",
    "    writer.writerow({'Player name': key, 'Highest score': result[key]})\n",
    "\n"
   ]
  }
 ],
 "metadata": {
  "interpreter": {
   "hash": "3067ead486e059ec00ffe7555bdb889e6e264a24dc711bf108106cc7baee8d5d"
  },
  "kernelspec": {
   "display_name": "Python 3.7.3 ('base')",
   "language": "python",
   "name": "python3"
  },
  "language_info": {
   "codemirror_mode": {
    "name": "ipython",
    "version": 3
   },
   "file_extension": ".py",
   "mimetype": "text/x-python",
   "name": "python",
   "nbconvert_exporter": "python",
   "pygments_lexer": "ipython3",
   "version": "3.9.6"
  },
  "orig_nbformat": 4
 },
 "nbformat": 4,
 "nbformat_minor": 2
}
