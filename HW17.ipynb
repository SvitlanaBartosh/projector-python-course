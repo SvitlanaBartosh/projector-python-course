{
 "cells": [
  {
   "cell_type": "code",
   "execution_count": 14,
   "metadata": {},
   "outputs": [
    {
     "name": "stderr",
     "output_type": "stream",
     "text": [
      "/var/folders/kj/f099884j26jf7qw0037ppj7r0000gp/T/ipykernel_37637/2355260243.py:4: MovedIn20Warning: The ``declarative_base()`` function is now available as sqlalchemy.orm.declarative_base(). (deprecated since: 2.0) (Background on SQLAlchemy 2.0 at: https://sqlalche.me/e/b8d9)\n",
      "  Base = declarative_base()\n"
     ]
    }
   ],
   "source": [
    "from sqlalchemy.ext.declarative import declarative_base\n",
    "from sqlalchemy import Column, Integer, String, ForeignKey\n",
    "\n",
    "Base = declarative_base()\n",
    "\n",
    "class Student(Base):\n",
    "    __tablename__ = 'student'\n",
    "\n",
    "    id = Column(Integer, primary_key=True)\n",
    "    name = Column(String)\n",
    "    age = Column(Integer)\n",
    "\n",
    "    def __str__(self):\n",
    "        return f'This is {self.id} student {self.name}. Age: {self.age}'\n",
    "\n",
    "    def __repr__(self):\n",
    "        return f'This is {self.id} student {self.name}. Age: {self.age}'\n",
    "    \n",
    "\n",
    "class Subject(Base):\n",
    "    __tablename__ = 'subject'\n",
    "\n",
    "    id = Column(Integer, primary_key=True)\n",
    "    name = Column(String)\n",
    "    length = Column(Integer)\n",
    "\n",
    "    def __str__(self):\n",
    "        return f'This is {self.id} subject {self.name}. Length: {self.length}'\n",
    "\n",
    "    def __repr__(self):\n",
    "        return f'This is {self.id} subject {self.name}. Length: {self.length}'\n",
    "    \n",
    "    \n",
    "class StudentSubject(Base):\n",
    "    __tablename__ = 'student_subject'\n",
    "\n",
    "    id = Column(Integer, primary_key=True)\n",
    "    student_id = Column(Integer, ForeignKey(\"student.id\"))\n",
    "    subject_id = Column(Integer, ForeignKey(\"subject.id\"))\n",
    "\n",
    "    def __str__(self):\n",
    "        return f'id {self.id}; student_id {self.student_id}. subject_id: {self.subject_id}'\n",
    "\n",
    "    def __repr__(self):\n",
    "        return f'id {self.id}; student_id {self.student_id}. subject_id: {self.subject_id}'\n",
    "    "
   ]
  },
  {
   "cell_type": "code",
   "execution_count": 15,
   "metadata": {},
   "outputs": [],
   "source": [
    "from sqlalchemy import create_engine\n",
    "\n",
    "DATABASE_URI = 'postgresql://{user}:{password}@{host}:{port}/{database}'\n",
    "\n",
    "engine = create_engine(\n",
    "    DATABASE_URI.format(\n",
    "        host='localhost',\n",
    "        database='postgres',\n",
    "        user='postgres',\n",
    "        password='district789',\n",
    "        port=5432,\n",
    "    )\n",
    ")\n",
    "\n",
    "Base.metadata.create_all(engine)"
   ]
  },
  {
   "cell_type": "code",
   "execution_count": 24,
   "metadata": {},
   "outputs": [
    {
     "name": "stdout",
     "output_type": "stream",
     "text": [
      "(This is 1 student Bae. Age: 18, id 1; student_id 1. subject_id: 1)\n",
      "(This is 3 student Lily. Age: 22, id 4; student_id 3. subject_id: 1)\n"
     ]
    }
   ],
   "source": [
    "from sqlalchemy.orm import sessionmaker\n",
    "\n",
    "Session = sessionmaker(bind=engine)\n",
    "\n",
    "session = Session()\n",
    "\n",
    "query_student_english_cources = session.query(Student, StudentSubject).filter(\n",
    "        StudentSubject.student_id == Student.id).filter(\n",
    "            StudentSubject.subject_id == Subject.id).filter(\n",
    "                StudentSubject.subject_id == 1).all()\n",
    "for itm in query_student_english_cources:\n",
    "    print(itm)\n",
    "\n",
    "session.close()"
   ]
  }
 ],
 "metadata": {
  "interpreter": {
   "hash": "3067ead486e059ec00ffe7555bdb889e6e264a24dc711bf108106cc7baee8d5d"
  },
  "kernelspec": {
   "display_name": "Python 3.7.3 ('base')",
   "language": "python",
   "name": "python3"
  },
  "language_info": {
   "codemirror_mode": {
    "name": "ipython",
    "version": 3
   },
   "file_extension": ".py",
   "mimetype": "text/x-python",
   "name": "python",
   "nbconvert_exporter": "python",
   "pygments_lexer": "ipython3",
   "version": "3.10.9"
  },
  "orig_nbformat": 4
 },
 "nbformat": 4,
 "nbformat_minor": 2
}
