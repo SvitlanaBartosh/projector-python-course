{
 "cells": [
  {
   "attachments": {},
   "cell_type": "markdown",
   "metadata": {},
   "source": [
    "1. Write a decorator that ensures a function is only called by users with a specific role. Each function should have an user_type with a string type in kwargs. Example:"
   ]
  },
  {
   "cell_type": "code",
   "execution_count": 23,
   "metadata": {},
   "outputs": [
    {
     "name": "stdout",
     "output_type": "stream",
     "text": [
      "-------START---------\n",
      "Some very dangerous operation\n",
      "----------------\n",
      ">> ('ValueError', 'Permission denied')\n",
      "-------END---------\n"
     ]
    }
   ],
   "source": [
    "def is_admin(operation):\n",
    "    def wrapper(*args, **kwargs):\n",
    "        if kwargs['user_type'] != 'admin':\n",
    "            raise Exception('ValueError', 'Permission denied')\n",
    "        operation(kwargs)\n",
    "   \n",
    "    return wrapper\n",
    "\n",
    "@is_admin\n",
    "def show_customer_receipt(user_type: str):\n",
    "    print('Some very dangerous operation')\n",
    "\n",
    "try:\n",
    "    print('-------START---------')\n",
    "    show_customer_receipt(user_type='admin')\n",
    "    print('----------------')\n",
    "    show_customer_receipt(user_type='user')\n",
    "except Exception as error:\n",
    "    print('>>', error)\n",
    "\n",
    "print('-------END---------')"
   ]
  },
  {
   "attachments": {},
   "cell_type": "markdown",
   "metadata": {},
   "source": [
    "2. Write a decorator that wraps a function in a try-except block and prints an error \n",
    "if any type of error has happened."
   ]
  },
  {
   "cell_type": "code",
   "execution_count": 6,
   "metadata": {},
   "outputs": [
    {
     "name": "stdout",
     "output_type": "stream",
     "text": [
      "Exception occurred: ('ValueError', 'Permission denied')\n"
     ]
    }
   ],
   "source": [
    "def catch_errors(func):\n",
    "    def wrapper(*args, **kwargs):\n",
    "        # print(args)\n",
    "        try:\n",
    "            return func(*args, **kwargs)\n",
    "        except Exception as e:\n",
    "            print(f\"Exception occurred: {e}\")\n",
    "\n",
    "    return wrapper\n",
    "\n",
    "@catch_errors\n",
    "def some_function_with_risky_operation(data):\n",
    "    # print(data['key'])\n",
    "    raise Exception('ValueError', 'Permission denied')\n",
    "\n",
    "some_function_with_risky_operation(134)\n",
    "# some_function_with_risky_operation({'foo': 'bar'})\n",
    "# > Found 1 error during execution of your function: KeyError no such key as foo\n",
    "\n",
    "# some_function_with_risky_operation({'key': 'bar'})\n",
    "# > bar\n"
   ]
  }
 ],
 "metadata": {
  "interpreter": {
   "hash": "3067ead486e059ec00ffe7555bdb889e6e264a24dc711bf108106cc7baee8d5d"
  },
  "kernelspec": {
   "display_name": "Python 3.7.3 ('base')",
   "language": "python",
   "name": "python3"
  },
  "language_info": {
   "codemirror_mode": {
    "name": "ipython",
    "version": 3
   },
   "file_extension": ".py",
   "mimetype": "text/x-python",
   "name": "python",
   "nbconvert_exporter": "python",
   "pygments_lexer": "ipython3",
   "version": "3.9.6"
  },
  "orig_nbformat": 4
 },
 "nbformat": 4,
 "nbformat_minor": 2
}
