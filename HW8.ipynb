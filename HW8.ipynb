{
 "cells": [
  {
   "cell_type": "code",
   "execution_count": 2,
   "metadata": {},
   "outputs": [
    {
     "name": "stdout",
     "output_type": "stream",
     "text": [
      "[1, 4, 9, 16, 25, 36, 49, 64, 81, 100]\n"
     ]
    }
   ],
   "source": [
    "cats = 100\n",
    "cats_with_hats = []\n",
    "circles = 100\n",
    "\n",
    "for circle in range (1,101):\n",
    "    for cat in range (1,101):\n",
    "        if cat % circle == 0:\n",
    "            if cat in cats_with_hats:\n",
    "                cats_with_hats.remove(cat)\n",
    "            else:\n",
    "                cats_with_hats.append(cat)\n",
    "\n",
    "print(cats_with_hats)"
   ]
  },
  {
   "cell_type": "code",
   "execution_count": 6,
   "metadata": {},
   "outputs": [
    {
     "name": "stdout",
     "output_type": "stream",
     "text": [
      "[1, 59, 61, 67, 71, 73, 79, 83, 89, 97, 4, 9, 77, 65, 91, 16, 85, 57, 95, 63, 69, 25, 75, 56, 58, 87, 60, 62, 93, 66, 99, 68, 70, 36, 72, 74, 76, 78, 80, 82, 84, 86, 88, 90, 92, 94, 96, 49, 98]\n"
     ]
    }
   ],
   "source": [
    "# Make a function that can calculate hats with any amount of rounds and cats.\n",
    "\n",
    "cats = 100\n",
    "cats_with_hats = []\n",
    "circles = int(input('Enter number of circle'))\n",
    "\n",
    "for circle in range (1,circles+1):\n",
    "    for cat in range (1,101):\n",
    "        if cat % circle == 0:\n",
    "            if cat in cats_with_hats:\n",
    "                cats_with_hats.remove(cat)\n",
    "            else:\n",
    "                cats_with_hats.append(cat)\n",
    "\n",
    "print(cats_with_hats)"
   ]
  },
  {
   "attachments": {},
   "cell_type": "markdown",
   "metadata": {},
   "source": [
    "complexity1 = O(100) ** 2\n",
    "complexity1 = O(n*100)"
   ]
  }
 ],
 "metadata": {
  "interpreter": {
   "hash": "3067ead486e059ec00ffe7555bdb889e6e264a24dc711bf108106cc7baee8d5d"
  },
  "kernelspec": {
   "display_name": "Python 3.7.3 ('base')",
   "language": "python",
   "name": "python3"
  },
  "language_info": {
   "codemirror_mode": {
    "name": "ipython",
    "version": 3
   },
   "file_extension": ".py",
   "mimetype": "text/x-python",
   "name": "python",
   "nbconvert_exporter": "python",
   "pygments_lexer": "ipython3",
   "version": "3.10.9"
  },
  "orig_nbformat": 4
 },
 "nbformat": 4,
 "nbformat_minor": 2
}
